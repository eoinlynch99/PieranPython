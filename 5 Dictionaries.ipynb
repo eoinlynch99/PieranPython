{
 "cells": [
  {
   "cell_type": "markdown",
   "id": "4be4b831",
   "metadata": {},
   "source": [
    "# Dictionaries"
   ]
  },
  {
   "cell_type": "code",
   "execution_count": 1,
   "id": "fdd2b6c1",
   "metadata": {},
   "outputs": [],
   "source": [
    "my_dict = {'key1':'value1', 'key2':'value2'}"
   ]
  },
  {
   "cell_type": "code",
   "execution_count": 2,
   "id": "3a70cce1",
   "metadata": {},
   "outputs": [
    {
     "data": {
      "text/plain": [
       "{'key1': 'value1', 'key2': 'value2'}"
      ]
     },
     "execution_count": 2,
     "metadata": {},
     "output_type": "execute_result"
    }
   ],
   "source": [
    "my_dict"
   ]
  },
  {
   "cell_type": "code",
   "execution_count": 6,
   "id": "854ecbb3",
   "metadata": {},
   "outputs": [
    {
     "data": {
      "text/plain": [
       "'value1'"
      ]
     },
     "execution_count": 6,
     "metadata": {},
     "output_type": "execute_result"
    }
   ],
   "source": [
    "my_dict['key1']"
   ]
  },
  {
   "cell_type": "code",
   "execution_count": null,
   "id": "3cc31c4b",
   "metadata": {},
   "outputs": [],
   "source": [
    "can be handy with prices etc."
   ]
  },
  {
   "cell_type": "code",
   "execution_count": 4,
   "id": "faf02ccf",
   "metadata": {},
   "outputs": [],
   "source": [
    "prices_lookup = {'apple':2.99, 'banana':4.50, 'chocolate':5.80}"
   ]
  },
  {
   "cell_type": "code",
   "execution_count": 5,
   "id": "82d39ab2",
   "metadata": {},
   "outputs": [
    {
     "data": {
      "text/plain": [
       "2.99"
      ]
     },
     "execution_count": 5,
     "metadata": {},
     "output_type": "execute_result"
    }
   ],
   "source": [
    "prices_lookup['apple']"
   ]
  },
  {
   "cell_type": "markdown",
   "id": "356f18f2",
   "metadata": {},
   "source": [
    "Dictionaries can hold other lists or dictionaries"
   ]
  },
  {
   "cell_type": "code",
   "execution_count": 38,
   "id": "37c15d9f",
   "metadata": {},
   "outputs": [],
   "source": [
    "d = {'k1':123, 'k2':[0,1,2], 'k3':{'insidekey':100}}"
   ]
  },
  {
   "cell_type": "code",
   "execution_count": 39,
   "id": "8ccb6b4a",
   "metadata": {},
   "outputs": [
    {
     "data": {
      "text/plain": [
       "2"
      ]
     },
     "execution_count": 39,
     "metadata": {},
     "output_type": "execute_result"
    }
   ],
   "source": [
    "d['k2'][2]"
   ]
  },
  {
   "cell_type": "code",
   "execution_count": 40,
   "id": "a3f5f165",
   "metadata": {},
   "outputs": [
    {
     "data": {
      "text/plain": [
       "100"
      ]
     },
     "execution_count": 40,
     "metadata": {},
     "output_type": "execute_result"
    }
   ],
   "source": [
    "d['k3']['insidekey']"
   ]
  },
  {
   "cell_type": "markdown",
   "id": "ecd4ed0a",
   "metadata": {},
   "source": [
    "Long way of manipulating list in dictionary"
   ]
  },
  {
   "cell_type": "code",
   "execution_count": 41,
   "id": "6a5f7e67",
   "metadata": {},
   "outputs": [],
   "source": [
    "d = {'key1':['a', 'b', 'c']}"
   ]
  },
  {
   "cell_type": "code",
   "execution_count": 42,
   "id": "5c4cc6f7",
   "metadata": {},
   "outputs": [
    {
     "data": {
      "text/plain": [
       "{'key1': ['a', 'b', 'c']}"
      ]
     },
     "execution_count": 42,
     "metadata": {},
     "output_type": "execute_result"
    }
   ],
   "source": [
    "d"
   ]
  },
  {
   "cell_type": "code",
   "execution_count": 43,
   "id": "40bcc069",
   "metadata": {},
   "outputs": [],
   "source": [
    "mylist = d['key1']"
   ]
  },
  {
   "cell_type": "code",
   "execution_count": 44,
   "id": "cf7a08e5",
   "metadata": {},
   "outputs": [],
   "source": [
    "letter = mylist[2]"
   ]
  },
  {
   "cell_type": "code",
   "execution_count": 45,
   "id": "f0c34d3e",
   "metadata": {},
   "outputs": [
    {
     "data": {
      "text/plain": [
       "'c'"
      ]
     },
     "execution_count": 45,
     "metadata": {},
     "output_type": "execute_result"
    }
   ],
   "source": [
    "letter"
   ]
  },
  {
   "cell_type": "code",
   "execution_count": 46,
   "id": "dbcdde20",
   "metadata": {},
   "outputs": [
    {
     "data": {
      "text/plain": [
       "'C'"
      ]
     },
     "execution_count": 46,
     "metadata": {},
     "output_type": "execute_result"
    }
   ],
   "source": [
    "letter.upper()"
   ]
  },
  {
   "cell_type": "markdown",
   "id": "baa51d29",
   "metadata": {},
   "source": [
    "Short way"
   ]
  },
  {
   "cell_type": "code",
   "execution_count": 47,
   "id": "020fb0a6",
   "metadata": {},
   "outputs": [
    {
     "data": {
      "text/plain": [
       "'C'"
      ]
     },
     "execution_count": 47,
     "metadata": {},
     "output_type": "execute_result"
    }
   ],
   "source": [
    "d['key1'][2].upper()"
   ]
  },
  {
   "cell_type": "markdown",
   "id": "970cb0ae",
   "metadata": {},
   "source": [
    "### Adding to dictionaries"
   ]
  },
  {
   "cell_type": "code",
   "execution_count": 48,
   "id": "9618899c",
   "metadata": {},
   "outputs": [],
   "source": [
    "d1 = {'k1':100, 'k2':200}"
   ]
  },
  {
   "cell_type": "code",
   "execution_count": 49,
   "id": "0544ad79",
   "metadata": {},
   "outputs": [
    {
     "data": {
      "text/plain": [
       "{'k1': 100, 'k2': 200}"
      ]
     },
     "execution_count": 49,
     "metadata": {},
     "output_type": "execute_result"
    }
   ],
   "source": [
    "d1"
   ]
  },
  {
   "cell_type": "code",
   "execution_count": 50,
   "id": "10f1a7af",
   "metadata": {},
   "outputs": [],
   "source": [
    "d1['k3'] = 300"
   ]
  },
  {
   "cell_type": "code",
   "execution_count": 51,
   "id": "12f3b42b",
   "metadata": {},
   "outputs": [
    {
     "data": {
      "text/plain": [
       "{'k1': 100, 'k2': 200, 'k3': 300}"
      ]
     },
     "execution_count": 51,
     "metadata": {},
     "output_type": "execute_result"
    }
   ],
   "source": [
    "d1"
   ]
  },
  {
   "cell_type": "markdown",
   "id": "147eabdb",
   "metadata": {},
   "source": [
    "### Overriting dictionaries"
   ]
  },
  {
   "cell_type": "code",
   "execution_count": 52,
   "id": "734b1c66",
   "metadata": {},
   "outputs": [],
   "source": [
    "d1['k1'] = 'NEW NEW'"
   ]
  },
  {
   "cell_type": "code",
   "execution_count": 53,
   "id": "0ecedb40",
   "metadata": {},
   "outputs": [
    {
     "data": {
      "text/plain": [
       "{'k1': 'NEW NEW', 'k2': 200, 'k3': 300}"
      ]
     },
     "execution_count": 53,
     "metadata": {},
     "output_type": "execute_result"
    }
   ],
   "source": [
    "d1"
   ]
  },
  {
   "cell_type": "markdown",
   "id": "5a54e5f8",
   "metadata": {},
   "source": [
    "## Dictionary Methods"
   ]
  },
  {
   "cell_type": "code",
   "execution_count": 56,
   "id": "5b25a012",
   "metadata": {},
   "outputs": [],
   "source": [
    "d1 = {'k1': 100, 'k2': 200, 'k3': 300}"
   ]
  },
  {
   "cell_type": "code",
   "execution_count": 58,
   "id": "f5bd34d6",
   "metadata": {},
   "outputs": [
    {
     "data": {
      "text/plain": [
       "dict_keys(['k1', 'k2', 'k3'])"
      ]
     },
     "execution_count": 58,
     "metadata": {},
     "output_type": "execute_result"
    }
   ],
   "source": [
    "d1.keys()"
   ]
  },
  {
   "cell_type": "code",
   "execution_count": 59,
   "id": "ecc897bb",
   "metadata": {},
   "outputs": [
    {
     "data": {
      "text/plain": [
       "dict_values([100, 200, 300])"
      ]
     },
     "execution_count": 59,
     "metadata": {},
     "output_type": "execute_result"
    }
   ],
   "source": [
    "d1.values()"
   ]
  },
  {
   "cell_type": "code",
   "execution_count": 60,
   "id": "f69797c3",
   "metadata": {},
   "outputs": [
    {
     "data": {
      "text/plain": [
       "dict_items([('k1', 100), ('k2', 200), ('k3', 300)])"
      ]
     },
     "execution_count": 60,
     "metadata": {},
     "output_type": "execute_result"
    }
   ],
   "source": [
    "d1.items()"
   ]
  },
  {
   "cell_type": "code",
   "execution_count": null,
   "id": "25a3dae2",
   "metadata": {},
   "outputs": [],
   "source": []
  }
 ],
 "metadata": {
  "kernelspec": {
   "display_name": "Python 3 (ipykernel)",
   "language": "python",
   "name": "python3"
  },
  "language_info": {
   "codemirror_mode": {
    "name": "ipython",
    "version": 3
   },
   "file_extension": ".py",
   "mimetype": "text/x-python",
   "name": "python",
   "nbconvert_exporter": "python",
   "pygments_lexer": "ipython3",
   "version": "3.10.9"
  }
 },
 "nbformat": 4,
 "nbformat_minor": 5
}
