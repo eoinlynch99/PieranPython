{
 "cells": [
  {
   "cell_type": "markdown",
   "id": "768f1cc6",
   "metadata": {},
   "source": [
    "# Input/Output with Basic Files"
   ]
  },
  {
   "cell_type": "markdown",
   "id": "8352b02a",
   "metadata": {},
   "source": [
    "Doing simple I/O with basic.txt files "
   ]
  },
  {
   "cell_type": "code",
   "execution_count": 21,
   "id": "63df452e",
   "metadata": {
    "scrolled": true
   },
   "outputs": [
    {
     "name": "stdout",
     "output_type": "stream",
     "text": [
      "Overwriting myfile.txt\n"
     ]
    }
   ],
   "source": [
    "%%writefile myfile.txt\n",
    "Hello this is a text file\n",
    "Second line here\n",
    "Third line here"
   ]
  },
  {
   "cell_type": "markdown",
   "id": "5c49f0c5",
   "metadata": {},
   "source": [
    "%%writefile is a jupyter notebook function"
   ]
  },
  {
   "cell_type": "code",
   "execution_count": 22,
   "id": "88f9b4f9",
   "metadata": {},
   "outputs": [],
   "source": [
    "myfile = open('myfile.txt')"
   ]
  },
  {
   "cell_type": "markdown",
   "id": "5de0ee19",
   "metadata": {},
   "source": [
    "File not found error common, see below"
   ]
  },
  {
   "cell_type": "code",
   "execution_count": 23,
   "id": "1c50acd7",
   "metadata": {},
   "outputs": [
    {
     "ename": "FileNotFoundError",
     "evalue": "[Errno 2] No such file or directory: 'ohno.txt'",
     "output_type": "error",
     "traceback": [
      "\u001b[1;31m---------------------------------------------------------------------------\u001b[0m",
      "\u001b[1;31mFileNotFoundError\u001b[0m                         Traceback (most recent call last)",
      "Cell \u001b[1;32mIn[23], line 1\u001b[0m\n\u001b[1;32m----> 1\u001b[0m myfile \u001b[38;5;241m=\u001b[39m \u001b[38;5;28;43mopen\u001b[39;49m\u001b[43m(\u001b[49m\u001b[38;5;124;43m'\u001b[39;49m\u001b[38;5;124;43mohno.txt\u001b[39;49m\u001b[38;5;124;43m'\u001b[39;49m\u001b[43m)\u001b[49m\n",
      "File \u001b[1;32m~\\AppData\\Local\\anaconda3\\lib\\site-packages\\IPython\\core\\interactiveshell.py:282\u001b[0m, in \u001b[0;36m_modified_open\u001b[1;34m(file, *args, **kwargs)\u001b[0m\n\u001b[0;32m    275\u001b[0m \u001b[38;5;28;01mif\u001b[39;00m file \u001b[38;5;129;01min\u001b[39;00m {\u001b[38;5;241m0\u001b[39m, \u001b[38;5;241m1\u001b[39m, \u001b[38;5;241m2\u001b[39m}:\n\u001b[0;32m    276\u001b[0m     \u001b[38;5;28;01mraise\u001b[39;00m \u001b[38;5;167;01mValueError\u001b[39;00m(\n\u001b[0;32m    277\u001b[0m         \u001b[38;5;124mf\u001b[39m\u001b[38;5;124m\"\u001b[39m\u001b[38;5;124mIPython won\u001b[39m\u001b[38;5;124m'\u001b[39m\u001b[38;5;124mt let you open fd=\u001b[39m\u001b[38;5;132;01m{\u001b[39;00mfile\u001b[38;5;132;01m}\u001b[39;00m\u001b[38;5;124m by default \u001b[39m\u001b[38;5;124m\"\u001b[39m\n\u001b[0;32m    278\u001b[0m         \u001b[38;5;124m\"\u001b[39m\u001b[38;5;124mas it is likely to crash IPython. If you know what you are doing, \u001b[39m\u001b[38;5;124m\"\u001b[39m\n\u001b[0;32m    279\u001b[0m         \u001b[38;5;124m\"\u001b[39m\u001b[38;5;124myou can use builtins\u001b[39m\u001b[38;5;124m'\u001b[39m\u001b[38;5;124m open.\u001b[39m\u001b[38;5;124m\"\u001b[39m\n\u001b[0;32m    280\u001b[0m     )\n\u001b[1;32m--> 282\u001b[0m \u001b[38;5;28;01mreturn\u001b[39;00m io_open(file, \u001b[38;5;241m*\u001b[39margs, \u001b[38;5;241m*\u001b[39m\u001b[38;5;241m*\u001b[39mkwargs)\n",
      "\u001b[1;31mFileNotFoundError\u001b[0m: [Errno 2] No such file or directory: 'ohno.txt'"
     ]
    }
   ],
   "source": [
    "myfile = open('ohno.txt')"
   ]
  },
  {
   "cell_type": "markdown",
   "id": "99a150c2",
   "metadata": {},
   "source": [
    "PWD shows current location on PC"
   ]
  },
  {
   "cell_type": "code",
   "execution_count": 24,
   "id": "8889318c",
   "metadata": {},
   "outputs": [
    {
     "data": {
      "text/plain": [
       "'C:\\\\Users\\\\eolynch\\\\Github\\\\PerianPython'"
      ]
     },
     "execution_count": 24,
     "metadata": {},
     "output_type": "execute_result"
    }
   ],
   "source": [
    "pwd"
   ]
  },
  {
   "cell_type": "markdown",
   "id": "66a782b7",
   "metadata": {},
   "source": [
    "."
   ]
  },
  {
   "cell_type": "code",
   "execution_count": 25,
   "id": "fbcf9c9e",
   "metadata": {},
   "outputs": [],
   "source": [
    "myfile = open('myfile.txt')"
   ]
  },
  {
   "cell_type": "code",
   "execution_count": 26,
   "id": "819cf795",
   "metadata": {},
   "outputs": [
    {
     "data": {
      "text/plain": [
       "'Hello this is a text file\\nSecond line here\\nThird line here\\n'"
      ]
     },
     "execution_count": 26,
     "metadata": {},
     "output_type": "execute_result"
    }
   ],
   "source": [
    "myfile.read()"
   ]
  },
  {
   "cell_type": "markdown",
   "id": "1715cec4",
   "metadata": {},
   "source": [
    "If you read the file again it'll show as empty because the cursor has moved to the end after reading"
   ]
  },
  {
   "cell_type": "code",
   "execution_count": 27,
   "id": "943bb228",
   "metadata": {},
   "outputs": [
    {
     "data": {
      "text/plain": [
       "''"
      ]
     },
     "execution_count": 27,
     "metadata": {},
     "output_type": "execute_result"
    }
   ],
   "source": [
    "myfile.read()"
   ]
  },
  {
   "cell_type": "markdown",
   "id": "c6d22ea3",
   "metadata": {},
   "source": [
    "Move cursor back to start here, the read string can be put into a variable"
   ]
  },
  {
   "cell_type": "code",
   "execution_count": 28,
   "id": "b96762f0",
   "metadata": {},
   "outputs": [
    {
     "data": {
      "text/plain": [
       "0"
      ]
     },
     "execution_count": 28,
     "metadata": {},
     "output_type": "execute_result"
    }
   ],
   "source": [
    "myfile.seek(0)"
   ]
  },
  {
   "cell_type": "code",
   "execution_count": 29,
   "id": "5dfaf9e9",
   "metadata": {},
   "outputs": [],
   "source": [
    "contents = myfile.read()"
   ]
  },
  {
   "cell_type": "code",
   "execution_count": 30,
   "id": "6fa39d16",
   "metadata": {},
   "outputs": [
    {
     "data": {
      "text/plain": [
       "'Hello this is a text file\\nSecond line here\\nThird line here\\n'"
      ]
     },
     "execution_count": 30,
     "metadata": {},
     "output_type": "execute_result"
    }
   ],
   "source": [
    "contents"
   ]
  },
  {
   "cell_type": "markdown",
   "id": "8803646b",
   "metadata": {},
   "source": [
    "To have a list where each line is an item do the below"
   ]
  },
  {
   "cell_type": "code",
   "execution_count": 31,
   "id": "df88502d",
   "metadata": {},
   "outputs": [
    {
     "data": {
      "text/plain": [
       "0"
      ]
     },
     "execution_count": 31,
     "metadata": {},
     "output_type": "execute_result"
    }
   ],
   "source": [
    "myfile.seek(0)"
   ]
  },
  {
   "cell_type": "code",
   "execution_count": 32,
   "id": "9e6fa9fc",
   "metadata": {},
   "outputs": [
    {
     "data": {
      "text/plain": [
       "['Hello this is a text file\\n', 'Second line here\\n', 'Third line here\\n']"
      ]
     },
     "execution_count": 32,
     "metadata": {},
     "output_type": "execute_result"
    }
   ],
   "source": [
    "myfile.readlines()"
   ]
  },
  {
   "cell_type": "markdown",
   "id": "b490bb41",
   "metadata": {},
   "source": [
    "# File Locations"
   ]
  },
  {
   "cell_type": "markdown",
   "id": "1c7827b5",
   "metadata": {},
   "source": [
    "To open file paths simply pass in the entire file path.\n",
    "\n",
    "For windows use double \\\\ so python doesnt record as an escape character\n",
    "myfile = open (\"C:\\\\Users\\\\Username\\\\Folder\\\\Example.txt\")\n",
    "\n",
    "For mac use backslashes for the path\n",
    "myfile= open (\"/users/username/folder/file.txt\")"
   ]
  },
  {
   "cell_type": "code",
   "execution_count": 33,
   "id": "7efe4875",
   "metadata": {},
   "outputs": [
    {
     "data": {
      "text/plain": [
       "'C:\\\\Users\\\\eolynch\\\\Github\\\\PerianPython'"
      ]
     },
     "execution_count": 33,
     "metadata": {},
     "output_type": "execute_result"
    }
   ],
   "source": [
    "pwd"
   ]
  },
  {
   "cell_type": "markdown",
   "id": "e37b6bb6",
   "metadata": {},
   "source": [
    "When using a file technically we should enter myfile.close() when finished with it\n",
    "\n",
    "instead we can do the below"
   ]
  },
  {
   "cell_type": "code",
   "execution_count": 34,
   "id": "313c5752",
   "metadata": {},
   "outputs": [],
   "source": [
    "with open('myfile.txt') as my_new_file:\n",
    "    contents = my_new_file.read()"
   ]
  },
  {
   "cell_type": "code",
   "execution_count": 35,
   "id": "2127f829",
   "metadata": {},
   "outputs": [
    {
     "data": {
      "text/plain": [
       "'Hello this is a text file\\nSecond line here\\nThird line here\\n'"
      ]
     },
     "execution_count": 35,
     "metadata": {},
     "output_type": "execute_result"
    }
   ],
   "source": [
    "contents"
   ]
  },
  {
   "cell_type": "markdown",
   "id": "9b6294ef",
   "metadata": {},
   "source": [
    "# Reading, writing and appending modes"
   ]
  },
  {
   "cell_type": "code",
   "execution_count": 36,
   "id": "bed6075b",
   "metadata": {},
   "outputs": [],
   "source": [
    "with open('myfile.txt', mode = 'r') as myfile:\n",
    "    contents = myfile.read()"
   ]
  },
  {
   "cell_type": "code",
   "execution_count": 37,
   "id": "83799923",
   "metadata": {},
   "outputs": [
    {
     "data": {
      "text/plain": [
       "'Hello this is a text file\\nSecond line here\\nThird line here\\n'"
      ]
     },
     "execution_count": 37,
     "metadata": {},
     "output_type": "execute_result"
    }
   ],
   "source": [
    "contents"
   ]
  },
  {
   "cell_type": "markdown",
   "id": "ef97701d",
   "metadata": {},
   "source": [
    "- mode ='r' is read only\n",
    "- mode ='w' is write only (Will overwrite an existing file or create a new one)\n",
    "- mode ='a' is append only (will add on to next line of a file) \n",
    "- mode ='r+' is reading and writing\n",
    "- mode ='w+' is writing and reading (Overwrites existing files or creates a new file)"
   ]
  },
  {
   "cell_type": "code",
   "execution_count": 40,
   "id": "63e85e76",
   "metadata": {},
   "outputs": [
    {
     "name": "stdout",
     "output_type": "stream",
     "text": [
      "Overwriting my_newest_file.txt\n"
     ]
    }
   ],
   "source": [
    "%%writefile my_newest_file.txt\n",
    "ONE ON FIRST\n",
    "TWO ON SECOND\n",
    "THREE ON THIRD"
   ]
  },
  {
   "cell_type": "code",
   "execution_count": 42,
   "id": "70d4a492",
   "metadata": {},
   "outputs": [
    {
     "name": "stdout",
     "output_type": "stream",
     "text": [
      "ONE ON FIRST\n",
      "TWO ON SECOND\n",
      "THREE ON THIRD\n",
      "\n"
     ]
    }
   ],
   "source": [
    "with open('my_newest_file.txt', mode = 'r') as f:\n",
    "    print (f.read())"
   ]
  },
  {
   "cell_type": "code",
   "execution_count": 43,
   "id": "f1b6236f",
   "metadata": {},
   "outputs": [],
   "source": [
    "with open('my_newest_file.txt', mode = 'a') as f:\n",
    "    f.write('FOUR ON FOURTH')"
   ]
  },
  {
   "cell_type": "code",
   "execution_count": 45,
   "id": "d1f82d09",
   "metadata": {},
   "outputs": [
    {
     "name": "stdout",
     "output_type": "stream",
     "text": [
      "ONE ON FIRST\n",
      "TWO ON SECOND\n",
      "THREE ON THIRD\n",
      "FOUR ON FOURTH\n"
     ]
    }
   ],
   "source": [
    "with open('my_newest_file.txt', mode = 'r') as f:\n",
    "    print (f.read())"
   ]
  },
  {
   "cell_type": "code",
   "execution_count": 46,
   "id": "b314caab",
   "metadata": {},
   "outputs": [],
   "source": [
    "with open('asdasuhdas.txt', mode='w') as f:\n",
    "    f.write('I made a new file')"
   ]
  },
  {
   "cell_type": "code",
   "execution_count": 47,
   "id": "83d28e4b",
   "metadata": {},
   "outputs": [
    {
     "name": "stdout",
     "output_type": "stream",
     "text": [
      "I made a new file\n"
     ]
    }
   ],
   "source": [
    "with open('asdasuhdas.txt', mode ='r') as f:\n",
    "    print(f.read())"
   ]
  },
  {
   "cell_type": "code",
   "execution_count": null,
   "id": "4477ae77",
   "metadata": {},
   "outputs": [],
   "source": []
  }
 ],
 "metadata": {
  "kernelspec": {
   "display_name": "Python 3 (ipykernel)",
   "language": "python",
   "name": "python3"
  },
  "language_info": {
   "codemirror_mode": {
    "name": "ipython",
    "version": 3
   },
   "file_extension": ".py",
   "mimetype": "text/x-python",
   "name": "python",
   "nbconvert_exporter": "python",
   "pygments_lexer": "ipython3",
   "version": "3.10.9"
  }
 },
 "nbformat": 4,
 "nbformat_minor": 5
}
