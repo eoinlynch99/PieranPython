{
 "cells": [
  {
   "cell_type": "markdown",
   "id": "2f619318",
   "metadata": {},
   "source": [
    "# Sets"
   ]
  },
  {
   "cell_type": "markdown",
   "id": "2f023775",
   "metadata": {},
   "source": [
    "Sets are unordered collections of unique elements"
   ]
  },
  {
   "cell_type": "code",
   "execution_count": 1,
   "id": "41559c06",
   "metadata": {},
   "outputs": [],
   "source": [
    "myset = set()"
   ]
  },
  {
   "cell_type": "code",
   "execution_count": 2,
   "id": "c3275353",
   "metadata": {},
   "outputs": [
    {
     "data": {
      "text/plain": [
       "set()"
      ]
     },
     "execution_count": 2,
     "metadata": {},
     "output_type": "execute_result"
    }
   ],
   "source": [
    "myset"
   ]
  },
  {
   "cell_type": "code",
   "execution_count": 3,
   "id": "e4e8539d",
   "metadata": {},
   "outputs": [],
   "source": [
    "myset.add(1)"
   ]
  },
  {
   "cell_type": "code",
   "execution_count": 4,
   "id": "71b0be68",
   "metadata": {},
   "outputs": [
    {
     "data": {
      "text/plain": [
       "{1}"
      ]
     },
     "execution_count": 4,
     "metadata": {},
     "output_type": "execute_result"
    }
   ],
   "source": [
    "myset"
   ]
  },
  {
   "cell_type": "code",
   "execution_count": 5,
   "id": "9a549552",
   "metadata": {},
   "outputs": [],
   "source": [
    "myset.add(2)"
   ]
  },
  {
   "cell_type": "code",
   "execution_count": 6,
   "id": "61efe1a5",
   "metadata": {},
   "outputs": [
    {
     "data": {
      "text/plain": [
       "{1, 2}"
      ]
     },
     "execution_count": 6,
     "metadata": {},
     "output_type": "execute_result"
    }
   ],
   "source": [
    "myset"
   ]
  },
  {
   "cell_type": "code",
   "execution_count": 7,
   "id": "38ada310",
   "metadata": {},
   "outputs": [],
   "source": [
    "myset.add(2)"
   ]
  },
  {
   "cell_type": "code",
   "execution_count": 8,
   "id": "ffaf793f",
   "metadata": {},
   "outputs": [
    {
     "data": {
      "text/plain": [
       "{1, 2}"
      ]
     },
     "execution_count": 8,
     "metadata": {},
     "output_type": "execute_result"
    }
   ],
   "source": [
    "myset"
   ]
  },
  {
   "cell_type": "markdown",
   "id": "1bb40ebd",
   "metadata": {},
   "source": [
    "Lists that convert to a set will only keep unique numbers"
   ]
  },
  {
   "cell_type": "code",
   "execution_count": 9,
   "id": "91190e39",
   "metadata": {},
   "outputs": [],
   "source": [
    "mylist = [1,1,1,1,1,2,2,2,2,3,3,3,3,3]"
   ]
  },
  {
   "cell_type": "code",
   "execution_count": 10,
   "id": "74d423a4",
   "metadata": {},
   "outputs": [
    {
     "data": {
      "text/plain": [
       "[1, 1, 1, 1, 1, 2, 2, 2, 2, 3, 3, 3, 3, 3]"
      ]
     },
     "execution_count": 10,
     "metadata": {},
     "output_type": "execute_result"
    }
   ],
   "source": [
    "mylist"
   ]
  },
  {
   "cell_type": "code",
   "execution_count": 13,
   "id": "8b91ab16",
   "metadata": {},
   "outputs": [
    {
     "data": {
      "text/plain": [
       "{1, 2, 3}"
      ]
     },
     "execution_count": 13,
     "metadata": {},
     "output_type": "execute_result"
    }
   ],
   "source": [
    "set(mylist)"
   ]
  },
  {
   "cell_type": "markdown",
   "id": "b006d5eb",
   "metadata": {},
   "source": [
    "Sets can be strings, as shown below"
   ]
  },
  {
   "cell_type": "code",
   "execution_count": 22,
   "id": "748bcd4d",
   "metadata": {},
   "outputs": [],
   "source": [
    "setlist = set()"
   ]
  },
  {
   "cell_type": "code",
   "execution_count": 26,
   "id": "1ed300b8",
   "metadata": {},
   "outputs": [],
   "source": [
    "setlist.add(\"Mississippi\")"
   ]
  },
  {
   "cell_type": "code",
   "execution_count": 27,
   "id": "a664e74f",
   "metadata": {},
   "outputs": [
    {
     "data": {
      "text/plain": [
       "{'Mississippi'}"
      ]
     },
     "execution_count": 27,
     "metadata": {},
     "output_type": "execute_result"
    }
   ],
   "source": [
    "setlist"
   ]
  }
 ],
 "metadata": {
  "kernelspec": {
   "display_name": "Python 3 (ipykernel)",
   "language": "python",
   "name": "python3"
  },
  "language_info": {
   "codemirror_mode": {
    "name": "ipython",
    "version": 3
   },
   "file_extension": ".py",
   "mimetype": "text/x-python",
   "name": "python",
   "nbconvert_exporter": "python",
   "pygments_lexer": "ipython3",
   "version": "3.10.9"
  }
 },
 "nbformat": 4,
 "nbformat_minor": 5
}
