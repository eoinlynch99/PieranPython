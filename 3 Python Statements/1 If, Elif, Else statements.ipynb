{
 "cells": [
  {
   "cell_type": "markdown",
   "id": "4c5f343c",
   "metadata": {},
   "source": [
    "# If, Elif and Else"
   ]
  },
  {
   "cell_type": "markdown",
   "id": "38e69aa7",
   "metadata": {},
   "source": [
    "Control flow syntax in Python makes use of colons and indentation"
   ]
  },
  {
   "cell_type": "code",
   "execution_count": 6,
   "id": "5b49889a",
   "metadata": {},
   "outputs": [
    {
     "name": "stdout",
     "output_type": "stream",
     "text": [
      "I'm not tired\n"
     ]
    }
   ],
   "source": [
    "Tired = False\n",
    "\n",
    "if Tired:\n",
    "    print('Let me sleep')\n",
    "else:\n",
    "    print('I\\'m not tired')"
   ]
  },
  {
   "cell_type": "code",
   "execution_count": 16,
   "id": "25fd2505",
   "metadata": {},
   "outputs": [
    {
     "name": "stdout",
     "output_type": "stream",
     "text": [
      "idk\n"
     ]
    }
   ],
   "source": [
    "loc= 'Chichen Itza'\n",
    "\n",
    "if loc == 'Mechanics':\n",
    "    print('Cars')\n",
    "elif loc == 'Bank':\n",
    "    print('Money')\n",
    "elif loc == 'Pub':\n",
    "    print('Pub')\n",
    "else:\n",
    "    print('idk')"
   ]
  },
  {
   "cell_type": "code",
   "execution_count": 18,
   "id": "5fe90140",
   "metadata": {},
   "outputs": [
    {
     "name": "stdout",
     "output_type": "stream",
     "text": [
      "Who are you\n"
     ]
    }
   ],
   "source": [
    "name = 'Jonathon'\n",
    "\n",
    "if name == 'Jamie':\n",
    "    print(\"Hello james!\")\n",
    "elif name == 'Damo':\n",
    "    print('hey damo')\n",
    "else:\n",
    "    print('Who are you')"
   ]
  },
  {
   "cell_type": "code",
   "execution_count": null,
   "id": "efec06c3",
   "metadata": {},
   "outputs": [],
   "source": []
  }
 ],
 "metadata": {
  "kernelspec": {
   "display_name": "Python 3 (ipykernel)",
   "language": "python",
   "name": "python3"
  },
  "language_info": {
   "codemirror_mode": {
    "name": "ipython",
    "version": 3
   },
   "file_extension": ".py",
   "mimetype": "text/x-python",
   "name": "python",
   "nbconvert_exporter": "python",
   "pygments_lexer": "ipython3",
   "version": "3.10.9"
  }
 },
 "nbformat": 4,
 "nbformat_minor": 5
}
