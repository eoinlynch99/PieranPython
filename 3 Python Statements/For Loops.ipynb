{
 "cells": [
  {
   "cell_type": "markdown",
   "id": "66328bfe",
   "metadata": {},
   "source": [
    "# For Loops"
   ]
  },
  {
   "cell_type": "markdown",
   "id": "18690fb9",
   "metadata": {},
   "source": [
    "For loops are iterable loops, this means that an action can be repeated"
   ]
  },
  {
   "cell_type": "code",
   "execution_count": 8,
   "id": "0fbbec13",
   "metadata": {
    "scrolled": false
   },
   "outputs": [
    {
     "name": "stdout",
     "output_type": "stream",
     "text": [
      "1\n",
      "2\n",
      "3\n",
      "4\n",
      "5\n",
      "6\n",
      "7\n",
      "8\n",
      "9\n",
      "10\n"
     ]
    }
   ],
   "source": [
    "my_loop = [1,2,3,4,5,6,7,8,9,10]\n",
    "\n",
    "for x in my_loop:\n",
    "    print(x)"
   ]
  },
  {
   "cell_type": "code",
   "execution_count": 14,
   "id": "3efc3575",
   "metadata": {},
   "outputs": [
    {
     "name": "stdout",
     "output_type": "stream",
     "text": [
      "Odd number 1\n",
      "Even number 2\n",
      "Odd number 3\n",
      "Even number 4\n",
      "Odd number 5\n",
      "Even number 6\n",
      "Odd number 7\n",
      "Even number 8\n",
      "Odd number 9\n",
      "Even number 10\n"
     ]
    }
   ],
   "source": [
    "for x in my_loop:\n",
    "    # to check if even\n",
    "    if x % 2 == 0:\n",
    "        print('Even number {}'.format(x))\n",
    "    else:\n",
    "        print('Odd number {}'.format(x))"
   ]
  },
  {
   "cell_type": "markdown",
   "id": "d1ddb92d",
   "metadata": {},
   "source": [
    "See below effect on indentation on formula"
   ]
  },
  {
   "cell_type": "code",
   "execution_count": 18,
   "id": "cdde54dc",
   "metadata": {},
   "outputs": [
    {
     "name": "stdout",
     "output_type": "stream",
     "text": [
      "1\n",
      "3\n",
      "6\n",
      "10\n",
      "15\n",
      "21\n",
      "28\n",
      "36\n",
      "45\n",
      "55\n"
     ]
    }
   ],
   "source": [
    "list_sum = 0\n",
    "\n",
    "for num in my_loop:\n",
    "    list_sum = list_sum + num\n",
    "    \n",
    "    print(list_sum)"
   ]
  },
  {
   "cell_type": "code",
   "execution_count": 19,
   "id": "f87cf7ef",
   "metadata": {},
   "outputs": [
    {
     "name": "stdout",
     "output_type": "stream",
     "text": [
      "55\n"
     ]
    }
   ],
   "source": [
    "list_sum = 0\n",
    "\n",
    "for num in my_loop:\n",
    "    list_sum = list_sum + num\n",
    "    \n",
    "print(list_sum)"
   ]
  },
  {
   "cell_type": "code",
   "execution_count": null,
   "id": "e547162e",
   "metadata": {},
   "outputs": [],
   "source": []
  }
 ],
 "metadata": {
  "kernelspec": {
   "display_name": "Python 3 (ipykernel)",
   "language": "python",
   "name": "python3"
  },
  "language_info": {
   "codemirror_mode": {
    "name": "ipython",
    "version": 3
   },
   "file_extension": ".py",
   "mimetype": "text/x-python",
   "name": "python",
   "nbconvert_exporter": "python",
   "pygments_lexer": "ipython3",
   "version": "3.10.9"
  }
 },
 "nbformat": 4,
 "nbformat_minor": 5
}
