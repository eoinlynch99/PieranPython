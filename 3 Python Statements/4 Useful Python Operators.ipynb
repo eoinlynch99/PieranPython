{
 "cells": [
  {
   "cell_type": "markdown",
   "id": "a56a7381",
   "metadata": {},
   "source": [
    "# Useful Python Operators"
   ]
  },
  {
   "cell_type": "markdown",
   "id": "e2fb5c39",
   "metadata": {},
   "source": [
    "Range function can be used to print out a range of numbers"
   ]
  },
  {
   "cell_type": "code",
   "execution_count": 5,
   "id": "cde2b508",
   "metadata": {},
   "outputs": [
    {
     "name": "stdout",
     "output_type": "stream",
     "text": [
      "0\n",
      "2\n",
      "4\n",
      "6\n",
      "8\n",
      "10\n"
     ]
    }
   ],
   "source": [
    "for num in range(0,11,2):\n",
    "    print(num)"
   ]
  },
  {
   "cell_type": "markdown",
   "id": "b1146f82",
   "metadata": {},
   "source": [
    "Its a generator so can't just be called, can be cast into a list or variable"
   ]
  },
  {
   "cell_type": "code",
   "execution_count": 6,
   "id": "cbbb30ad",
   "metadata": {},
   "outputs": [
    {
     "data": {
      "text/plain": [
       "range(0, 11, 2)"
      ]
     },
     "execution_count": 6,
     "metadata": {},
     "output_type": "execute_result"
    }
   ],
   "source": [
    "range(0,11,2)"
   ]
  },
  {
   "cell_type": "code",
   "execution_count": 7,
   "id": "c09118f3",
   "metadata": {},
   "outputs": [
    {
     "data": {
      "text/plain": [
       "[0, 2, 4, 6, 8, 10]"
      ]
     },
     "execution_count": 7,
     "metadata": {},
     "output_type": "execute_result"
    }
   ],
   "source": [
    "list(range(0,11,2))"
   ]
  },
  {
   "cell_type": "markdown",
   "id": "accda230",
   "metadata": {},
   "source": [
    "Enumerate operator is often used to setup counters for for loops, first example below is what it can replace <br/> takes in any iterable object and then returns an index counter and the element at the iteration"
   ]
  },
  {
   "cell_type": "code",
   "execution_count": 2,
   "id": "468b0fb0",
   "metadata": {},
   "outputs": [
    {
     "name": "stdout",
     "output_type": "stream",
     "text": [
      "At index 0 the letter is a\n",
      "At index 1 the letter is b\n",
      "At index 2 the letter is c\n",
      "At index 3 the letter is d\n",
      "At index 4 the letter is e\n"
     ]
    }
   ],
   "source": [
    "index_count = 0\n",
    "\n",
    "for letter in 'abcde':\n",
    "    print(f'At index {index_count} the letter is {letter}')\n",
    "    index_count+= 1"
   ]
  },
  {
   "cell_type": "code",
   "execution_count": 4,
   "id": "f175d33d",
   "metadata": {},
   "outputs": [
    {
     "name": "stdout",
     "output_type": "stream",
     "text": [
      "0\n",
      "a\n",
      "\n",
      "\n",
      "1\n",
      "b\n",
      "\n",
      "\n",
      "2\n",
      "c\n",
      "\n",
      "\n",
      "3\n",
      "d\n",
      "\n",
      "\n",
      "4\n",
      "e\n",
      "\n",
      "\n"
     ]
    }
   ],
   "source": [
    "word = 'abcde'\n",
    "\n",
    "for index,letter in enumerate(word):\n",
    "    print(index)\n",
    "    print(letter)\n",
    "    print('\\n')"
   ]
  },
  {
   "cell_type": "markdown",
   "id": "e778a90d",
   "metadata": {},
   "source": [
    "Zip function: Zips together two lists, returns a list of tuples <br/> Zip only zips together as far as the shortest list <br/> Can be iterated through or can be casted"
   ]
  },
  {
   "cell_type": "code",
   "execution_count": 12,
   "id": "fb146596",
   "metadata": {},
   "outputs": [],
   "source": [
    "mylist1= [1,2,3,4,5]\n",
    "mylist2= ['a','b','c',1,2,3]\n",
    "mylist3= [100,200,300]"
   ]
  },
  {
   "cell_type": "code",
   "execution_count": 14,
   "id": "275512a2",
   "metadata": {},
   "outputs": [
    {
     "name": "stdout",
     "output_type": "stream",
     "text": [
      "(1, 'a', 100)\n",
      "(2, 'b', 200)\n",
      "(3, 'c', 300)\n"
     ]
    }
   ],
   "source": [
    "for item in zip(mylist1, mylist2,mylist3):\n",
    "    print(item)"
   ]
  },
  {
   "cell_type": "code",
   "execution_count": 15,
   "id": "72bb7949",
   "metadata": {},
   "outputs": [
    {
     "data": {
      "text/plain": [
       "[(1, 'a'), (2, 'b'), (3, 'c'), (4, 1), (5, 2)]"
      ]
     },
     "execution_count": 15,
     "metadata": {},
     "output_type": "execute_result"
    }
   ],
   "source": [
    "list(zip(mylist1,mylist2))"
   ]
  },
  {
   "cell_type": "markdown",
   "id": "59e1fbd5",
   "metadata": {},
   "source": [
    "In operator: is used to quickly check if an object in a list"
   ]
  },
  {
   "cell_type": "code",
   "execution_count": 16,
   "id": "5c21f320",
   "metadata": {},
   "outputs": [
    {
     "data": {
      "text/plain": [
       "False"
      ]
     },
     "execution_count": 16,
     "metadata": {},
     "output_type": "execute_result"
    }
   ],
   "source": [
    "'x' in mylist1"
   ]
  },
  {
   "cell_type": "code",
   "execution_count": 18,
   "id": "30532e09",
   "metadata": {},
   "outputs": [
    {
     "data": {
      "text/plain": [
       "True"
      ]
     },
     "execution_count": 18,
     "metadata": {},
     "output_type": "execute_result"
    }
   ],
   "source": [
    "3 in mylist1"
   ]
  },
  {
   "cell_type": "code",
   "execution_count": 1,
   "id": "360ebd99",
   "metadata": {},
   "outputs": [
    {
     "data": {
      "text/plain": [
       "True"
      ]
     },
     "execution_count": 1,
     "metadata": {},
     "output_type": "execute_result"
    }
   ],
   "source": [
    "'a' in 'Jamie'"
   ]
  },
  {
   "cell_type": "code",
   "execution_count": 2,
   "id": "9ae46969",
   "metadata": {},
   "outputs": [
    {
     "data": {
      "text/plain": [
       "True"
      ]
     },
     "execution_count": 2,
     "metadata": {},
     "output_type": "execute_result"
    }
   ],
   "source": [
    "'mykey' in {'mykey':345}"
   ]
  },
  {
   "cell_type": "code",
   "execution_count": 1,
   "id": "23083097",
   "metadata": {},
   "outputs": [
    {
     "data": {
      "text/plain": [
       "True"
      ]
     },
     "execution_count": 1,
     "metadata": {},
     "output_type": "execute_result"
    }
   ],
   "source": [
    "d = {'mykey':345}\n",
    "\n",
    "345 in d.values()"
   ]
  },
  {
   "cell_type": "markdown",
   "id": "ad63ea60",
   "metadata": {},
   "source": [
    "Min Max and random library"
   ]
  },
  {
   "cell_type": "code",
   "execution_count": 2,
   "id": "07989503",
   "metadata": {},
   "outputs": [],
   "source": [
    "mylist = [10,20,30,40,100]"
   ]
  },
  {
   "cell_type": "code",
   "execution_count": 3,
   "id": "d6bf3917",
   "metadata": {},
   "outputs": [
    {
     "data": {
      "text/plain": [
       "10"
      ]
     },
     "execution_count": 3,
     "metadata": {},
     "output_type": "execute_result"
    }
   ],
   "source": [
    "min(mylist)"
   ]
  },
  {
   "cell_type": "code",
   "execution_count": 4,
   "id": "d82243d9",
   "metadata": {},
   "outputs": [
    {
     "data": {
      "text/plain": [
       "100"
      ]
     },
     "execution_count": 4,
     "metadata": {},
     "output_type": "execute_result"
    }
   ],
   "source": [
    "max(mylist)"
   ]
  },
  {
   "cell_type": "code",
   "execution_count": 6,
   "id": "94e42431",
   "metadata": {},
   "outputs": [],
   "source": [
    "from random import shuffle"
   ]
  },
  {
   "cell_type": "code",
   "execution_count": 7,
   "id": "67e20b0a",
   "metadata": {},
   "outputs": [],
   "source": [
    "list2 = [1,2,3,4,5,6,7,8,9,10]"
   ]
  },
  {
   "cell_type": "code",
   "execution_count": 8,
   "id": "4b15993f",
   "metadata": {},
   "outputs": [],
   "source": [
    "shuffle(list2)"
   ]
  },
  {
   "cell_type": "code",
   "execution_count": 14,
   "id": "32988464",
   "metadata": {},
   "outputs": [
    {
     "data": {
      "text/plain": [
       "[6, 5, 8, 7, 3, 9, 1, 4, 10, 2]"
      ]
     },
     "execution_count": 14,
     "metadata": {},
     "output_type": "execute_result"
    }
   ],
   "source": [
    "list2"
   ]
  },
  {
   "cell_type": "markdown",
   "id": "984a7163",
   "metadata": {},
   "source": [
    "shuffle doesnt return anything"
   ]
  },
  {
   "cell_type": "code",
   "execution_count": 15,
   "id": "7e7f2345",
   "metadata": {},
   "outputs": [],
   "source": [
    "random_list = shuffle(list2)"
   ]
  },
  {
   "cell_type": "code",
   "execution_count": 17,
   "id": "e0eb04f6",
   "metadata": {
    "scrolled": true
   },
   "outputs": [
    {
     "data": {
      "text/plain": [
       "NoneType"
      ]
     },
     "execution_count": 17,
     "metadata": {},
     "output_type": "execute_result"
    }
   ],
   "source": [
    "type(random_list)"
   ]
  },
  {
   "cell_type": "markdown",
   "id": "0d416ad2",
   "metadata": {},
   "source": [
    "Random below"
   ]
  },
  {
   "cell_type": "code",
   "execution_count": 19,
   "id": "e11001e7",
   "metadata": {},
   "outputs": [],
   "source": [
    "from random import randint"
   ]
  },
  {
   "cell_type": "code",
   "execution_count": 20,
   "id": "33be1a25",
   "metadata": {},
   "outputs": [
    {
     "data": {
      "text/plain": [
       "835213"
      ]
     },
     "execution_count": 20,
     "metadata": {},
     "output_type": "execute_result"
    }
   ],
   "source": [
    "randint(0,1241241)"
   ]
  },
  {
   "cell_type": "code",
   "execution_count": 21,
   "id": "ff0dc243",
   "metadata": {},
   "outputs": [],
   "source": [
    "mynum = randint(0,2341234)"
   ]
  },
  {
   "cell_type": "code",
   "execution_count": 22,
   "id": "6a0f7539",
   "metadata": {},
   "outputs": [
    {
     "data": {
      "text/plain": [
       "565544"
      ]
     },
     "execution_count": 22,
     "metadata": {},
     "output_type": "execute_result"
    }
   ],
   "source": [
    "mynum"
   ]
  },
  {
   "cell_type": "markdown",
   "id": "a8621689",
   "metadata": {},
   "source": [
    "#### Accepting user input, everything is accepted as a string"
   ]
  },
  {
   "cell_type": "code",
   "execution_count": 25,
   "id": "008eb5f8",
   "metadata": {},
   "outputs": [
    {
     "name": "stdout",
     "output_type": "stream",
     "text": [
      "Enter something yada yada yada 5\n"
     ]
    }
   ],
   "source": [
    "result = input('Enter something yada yada yada ')"
   ]
  },
  {
   "cell_type": "code",
   "execution_count": 26,
   "id": "cfdb22a7",
   "metadata": {},
   "outputs": [
    {
     "data": {
      "text/plain": [
       "'5'"
      ]
     },
     "execution_count": 26,
     "metadata": {},
     "output_type": "execute_result"
    }
   ],
   "source": [
    "result"
   ]
  },
  {
   "cell_type": "code",
   "execution_count": 27,
   "id": "c9b0ea20",
   "metadata": {},
   "outputs": [
    {
     "data": {
      "text/plain": [
       "str"
      ]
     },
     "execution_count": 27,
     "metadata": {},
     "output_type": "execute_result"
    }
   ],
   "source": [
    "type(result)"
   ]
  },
  {
   "cell_type": "code",
   "execution_count": 28,
   "id": "c998604f",
   "metadata": {},
   "outputs": [
    {
     "name": "stdout",
     "output_type": "stream",
     "text": [
      "Enter something yada yada yada 5\n"
     ]
    }
   ],
   "source": [
    "result = int(input('Enter something yada yada yada '))"
   ]
  },
  {
   "cell_type": "code",
   "execution_count": 29,
   "id": "c38af106",
   "metadata": {},
   "outputs": [
    {
     "data": {
      "text/plain": [
       "int"
      ]
     },
     "execution_count": 29,
     "metadata": {},
     "output_type": "execute_result"
    }
   ],
   "source": [
    "type(result)"
   ]
  },
  {
   "cell_type": "code",
   "execution_count": null,
   "id": "cd4b84be",
   "metadata": {},
   "outputs": [],
   "source": []
  }
 ],
 "metadata": {
  "kernelspec": {
   "display_name": "Python 3 (ipykernel)",
   "language": "python",
   "name": "python3"
  },
  "language_info": {
   "codemirror_mode": {
    "name": "ipython",
    "version": 3
   },
   "file_extension": ".py",
   "mimetype": "text/x-python",
   "name": "python",
   "nbconvert_exporter": "python",
   "pygments_lexer": "ipython3",
   "version": "3.10.9"
  }
 },
 "nbformat": 4,
 "nbformat_minor": 5
}
