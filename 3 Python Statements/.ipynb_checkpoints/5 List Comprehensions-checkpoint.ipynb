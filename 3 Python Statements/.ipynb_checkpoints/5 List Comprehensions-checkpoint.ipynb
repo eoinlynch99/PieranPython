{
 "cells": [
  {
   "cell_type": "markdown",
   "id": "bf966810",
   "metadata": {},
   "source": [
    "A unique way of quickly making a list with python instead of for loop with append"
   ]
  },
  {
   "cell_type": "code",
   "execution_count": 1,
   "id": "70a172b2",
   "metadata": {},
   "outputs": [],
   "source": [
    "mystring = \"Hello\""
   ]
  },
  {
   "cell_type": "code",
   "execution_count": 4,
   "id": "2d0c8dc6",
   "metadata": {},
   "outputs": [],
   "source": [
    "list1 = []\n",
    "\n",
    "for letter in mystring:\n",
    "    list1.append(letter)"
   ]
  },
  {
   "cell_type": "code",
   "execution_count": 5,
   "id": "faecc67a",
   "metadata": {},
   "outputs": [
    {
     "data": {
      "text/plain": [
       "['H', 'e', 'l', 'l', 'o']"
      ]
     },
     "execution_count": 5,
     "metadata": {},
     "output_type": "execute_result"
    }
   ],
   "source": [
    "list1"
   ]
  },
  {
   "cell_type": "markdown",
   "id": "f62d651e",
   "metadata": {},
   "source": [
    " a"
   ]
  },
  {
   "cell_type": "code",
   "execution_count": 7,
   "id": "e45399fc",
   "metadata": {},
   "outputs": [],
   "source": [
    "list1 = [letter for letter in mystring]"
   ]
  },
  {
   "cell_type": "code",
   "execution_count": 10,
   "id": "0ce204fa",
   "metadata": {},
   "outputs": [],
   "source": [
    "list2 = [x for x in 'word']"
   ]
  },
  {
   "cell_type": "code",
   "execution_count": 11,
   "id": "cbd22c2c",
   "metadata": {},
   "outputs": [
    {
     "data": {
      "text/plain": [
       "['w', 'o', 'r', 'd']"
      ]
     },
     "execution_count": 11,
     "metadata": {},
     "output_type": "execute_result"
    }
   ],
   "source": [
    "list2"
   ]
  },
  {
   "cell_type": "markdown",
   "id": "aa051b9d",
   "metadata": {},
   "source": [
    "Automatically filling list with numbers in one line"
   ]
  },
  {
   "cell_type": "code",
   "execution_count": 12,
   "id": "4e5c71c8",
   "metadata": {},
   "outputs": [],
   "source": [
    "list3 = [x for x in range(0,8)]"
   ]
  },
  {
   "cell_type": "code",
   "execution_count": 13,
   "id": "4188cf55",
   "metadata": {},
   "outputs": [
    {
     "data": {
      "text/plain": [
       "[0, 1, 2, 3, 4, 5, 6, 7]"
      ]
     },
     "execution_count": 13,
     "metadata": {},
     "output_type": "execute_result"
    }
   ],
   "source": [
    "list3"
   ]
  },
  {
   "cell_type": "markdown",
   "id": "d6297b02",
   "metadata": {},
   "source": [
    "example of finding the square of every num in loop"
   ]
  },
  {
   "cell_type": "code",
   "execution_count": 14,
   "id": "ebbe613f",
   "metadata": {},
   "outputs": [],
   "source": [
    "list3 = [x**2 for x in range(0,8)]"
   ]
  },
  {
   "cell_type": "code",
   "execution_count": 15,
   "id": "1d852a1c",
   "metadata": {},
   "outputs": [
    {
     "data": {
      "text/plain": [
       "[0, 1, 4, 9, 16, 25, 36, 49]"
      ]
     },
     "execution_count": 15,
     "metadata": {},
     "output_type": "execute_result"
    }
   ],
   "source": [
    "list3"
   ]
  },
  {
   "cell_type": "markdown",
   "id": "afbc98f8",
   "metadata": {},
   "source": [
    "Using if statements can be done too for finding even numbers as example"
   ]
  },
  {
   "cell_type": "code",
   "execution_count": 16,
   "id": "dea5041a",
   "metadata": {},
   "outputs": [],
   "source": [
    "mylist = [x for x in range(0,11) if x%2 == 0]"
   ]
  },
  {
   "cell_type": "code",
   "execution_count": 17,
   "id": "cc87889d",
   "metadata": {},
   "outputs": [
    {
     "data": {
      "text/plain": [
       "[0, 2, 4, 6, 8, 10]"
      ]
     },
     "execution_count": 17,
     "metadata": {},
     "output_type": "execute_result"
    }
   ],
   "source": [
    "mylist"
   ]
  },
  {
   "cell_type": "markdown",
   "id": "9956f2be",
   "metadata": {},
   "source": [
    "More complicated arithemtic can be done also, see temperature conversion"
   ]
  },
  {
   "cell_type": "code",
   "execution_count": 19,
   "id": "5040c9bb",
   "metadata": {},
   "outputs": [],
   "source": [
    "celsius = [0, 10, 20, 30, 40,]\n",
    "\n",
    "fahrenheit = [((9/5)*temp + 32) for temp in celsius]"
   ]
  },
  {
   "cell_type": "code",
   "execution_count": 20,
   "id": "948b614a",
   "metadata": {},
   "outputs": [
    {
     "data": {
      "text/plain": [
       "[32.0, 50.0, 68.0, 86.0, 104.0]"
      ]
     },
     "execution_count": 20,
     "metadata": {},
     "output_type": "execute_result"
    }
   ],
   "source": [
    "fahrenheit"
   ]
  },
  {
   "cell_type": "markdown",
   "id": "06b49e27",
   "metadata": {},
   "source": [
    "above is the same as"
   ]
  },
  {
   "cell_type": "code",
   "execution_count": 25,
   "id": "13638ab0",
   "metadata": {},
   "outputs": [],
   "source": [
    "fahrenheit = []\n",
    "\n",
    "for temp in celsius:\n",
    "    fahrenheit.append((9/5)*temp + 32)"
   ]
  },
  {
   "cell_type": "markdown",
   "id": "fb4e418a",
   "metadata": {},
   "source": [
    "### if elses can be used too, can be hard to read"
   ]
  },
  {
   "cell_type": "code",
   "execution_count": 27,
   "id": "81862060",
   "metadata": {},
   "outputs": [],
   "source": [
    "results = [x if x%2 == 0 else 'Odd' for x in range (0,11)]"
   ]
  },
  {
   "cell_type": "markdown",
   "id": "eb05f6bd",
   "metadata": {},
   "source": [
    "### nested loops can be done too in a list comprehension"
   ]
  },
  {
   "cell_type": "code",
   "execution_count": 29,
   "id": "3f275edc",
   "metadata": {},
   "outputs": [],
   "source": [
    "mylist = []\n",
    "\n",
    "for x in [2,4,6]:\n",
    "    for y in [100,200,300]:\n",
    "        mylist.append(x*y)"
   ]
  },
  {
   "cell_type": "code",
   "execution_count": 30,
   "id": "5d894c0f",
   "metadata": {},
   "outputs": [
    {
     "data": {
      "text/plain": [
       "[200, 400, 600, 400, 800, 1200, 600, 1200, 1800]"
      ]
     },
     "execution_count": 30,
     "metadata": {},
     "output_type": "execute_result"
    }
   ],
   "source": [
    "mylist"
   ]
  },
  {
   "cell_type": "code",
   "execution_count": 31,
   "id": "9dc29739",
   "metadata": {},
   "outputs": [],
   "source": [
    "mylist = [x*y for x in [2,4,6] for y in [100,200,300]]"
   ]
  },
  {
   "cell_type": "code",
   "execution_count": 32,
   "id": "2ee1f8a9",
   "metadata": {},
   "outputs": [
    {
     "data": {
      "text/plain": [
       "[200, 400, 600, 400, 800, 1200, 600, 1200, 1800]"
      ]
     },
     "execution_count": 32,
     "metadata": {},
     "output_type": "execute_result"
    }
   ],
   "source": [
    "mylist"
   ]
  },
  {
   "cell_type": "code",
   "execution_count": null,
   "id": "e0e965b5",
   "metadata": {},
   "outputs": [],
   "source": []
  }
 ],
 "metadata": {
  "kernelspec": {
   "display_name": "Python 3 (ipykernel)",
   "language": "python",
   "name": "python3"
  },
  "language_info": {
   "codemirror_mode": {
    "name": "ipython",
    "version": 3
   },
   "file_extension": ".py",
   "mimetype": "text/x-python",
   "name": "python",
   "nbconvert_exporter": "python",
   "pygments_lexer": "ipython3",
   "version": "3.10.9"
  }
 },
 "nbformat": 4,
 "nbformat_minor": 5
}
