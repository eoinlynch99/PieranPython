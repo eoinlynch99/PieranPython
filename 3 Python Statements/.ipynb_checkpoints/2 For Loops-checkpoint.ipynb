{
 "cells": [
  {
   "cell_type": "markdown",
   "id": "66328bfe",
   "metadata": {},
   "source": [
    "# For Loops"
   ]
  },
  {
   "cell_type": "markdown",
   "id": "18690fb9",
   "metadata": {},
   "source": [
    "For loops are iterable loops, this means that an action can be repeated"
   ]
  },
  {
   "cell_type": "code",
   "execution_count": 8,
   "id": "0fbbec13",
   "metadata": {
    "scrolled": false
   },
   "outputs": [
    {
     "name": "stdout",
     "output_type": "stream",
     "text": [
      "1\n",
      "2\n",
      "3\n",
      "4\n",
      "5\n",
      "6\n",
      "7\n",
      "8\n",
      "9\n",
      "10\n"
     ]
    }
   ],
   "source": [
    "my_loop = [1,2,3,4,5,6,7,8,9,10]\n",
    "\n",
    "for x in my_loop:\n",
    "    print(x)"
   ]
  },
  {
   "cell_type": "code",
   "execution_count": 14,
   "id": "3efc3575",
   "metadata": {},
   "outputs": [
    {
     "name": "stdout",
     "output_type": "stream",
     "text": [
      "Odd number 1\n",
      "Even number 2\n",
      "Odd number 3\n",
      "Even number 4\n",
      "Odd number 5\n",
      "Even number 6\n",
      "Odd number 7\n",
      "Even number 8\n",
      "Odd number 9\n",
      "Even number 10\n"
     ]
    }
   ],
   "source": [
    "for x in my_loop:\n",
    "    # to check if even\n",
    "    if x % 2 == 0:\n",
    "        print('Even number {}'.format(x))\n",
    "    else:\n",
    "        print('Odd number {}'.format(x))"
   ]
  },
  {
   "cell_type": "markdown",
   "id": "d1ddb92d",
   "metadata": {},
   "source": [
    "## See below effect on indentation on formula"
   ]
  },
  {
   "cell_type": "code",
   "execution_count": 18,
   "id": "cdde54dc",
   "metadata": {},
   "outputs": [
    {
     "name": "stdout",
     "output_type": "stream",
     "text": [
      "1\n",
      "3\n",
      "6\n",
      "10\n",
      "15\n",
      "21\n",
      "28\n",
      "36\n",
      "45\n",
      "55\n"
     ]
    }
   ],
   "source": [
    "list_sum = 0\n",
    "\n",
    "for num in my_loop:\n",
    "    list_sum = list_sum + num\n",
    "    \n",
    "    print(list_sum)"
   ]
  },
  {
   "cell_type": "code",
   "execution_count": 19,
   "id": "f87cf7ef",
   "metadata": {},
   "outputs": [
    {
     "name": "stdout",
     "output_type": "stream",
     "text": [
      "55\n"
     ]
    }
   ],
   "source": [
    "list_sum = 0\n",
    "\n",
    "for num in my_loop:\n",
    "    list_sum = list_sum + num\n",
    "    \n",
    "print(list_sum)"
   ]
  },
  {
   "cell_type": "markdown",
   "id": "12d7efda",
   "metadata": {},
   "source": [
    "## For loops with strings"
   ]
  },
  {
   "cell_type": "code",
   "execution_count": 1,
   "id": "94d99856",
   "metadata": {},
   "outputs": [
    {
     "name": "stdout",
     "output_type": "stream",
     "text": [
      "J\n",
      "a\n",
      "m\n",
      " \n",
      "T\n",
      "o\n",
      "a\n",
      "s\n",
      "t\n"
     ]
    }
   ],
   "source": [
    "mystring = \"Jam Toast\"\n",
    "for letter in mystring:\n",
    "    print(letter)"
   ]
  },
  {
   "cell_type": "code",
   "execution_count": 2,
   "id": "6bf3756e",
   "metadata": {},
   "outputs": [
    {
     "name": "stdout",
     "output_type": "stream",
     "text": [
      "J\n",
      "a\n",
      "m\n",
      " \n",
      "T\n",
      "o\n",
      "a\n",
      "s\n",
      "t\n"
     ]
    }
   ],
   "source": [
    "for asjiofj in mystring:\n",
    "    print(asjiofj)"
   ]
  },
  {
   "cell_type": "markdown",
   "id": "7e8bf462",
   "metadata": {},
   "source": [
    "sometimes people use an underscore like below when they dont want to use a variable"
   ]
  },
  {
   "cell_type": "code",
   "execution_count": null,
   "id": "bf8135a9",
   "metadata": {},
   "outputs": [],
   "source": [
    "for _ in mystring:\n",
    "    print(asjiofj)"
   ]
  },
  {
   "cell_type": "markdown",
   "id": "1748bc61",
   "metadata": {},
   "source": [
    "# Tuple Unpacking\n",
    "Duplicating the structure of tuples inside a list and then unpack"
   ]
  },
  {
   "cell_type": "code",
   "execution_count": 3,
   "id": "8db0e3ab",
   "metadata": {},
   "outputs": [],
   "source": [
    "mylist = [(0,1), (2,3), (3,4), (5,6)]"
   ]
  },
  {
   "cell_type": "code",
   "execution_count": 4,
   "id": "c7890d99",
   "metadata": {},
   "outputs": [
    {
     "data": {
      "text/plain": [
       "4"
      ]
     },
     "execution_count": 4,
     "metadata": {},
     "output_type": "execute_result"
    }
   ],
   "source": [
    "len(mylist)"
   ]
  },
  {
   "cell_type": "code",
   "execution_count": 6,
   "id": "41a47ae2",
   "metadata": {},
   "outputs": [
    {
     "name": "stdout",
     "output_type": "stream",
     "text": [
      "0\n",
      "1\n",
      "2\n",
      "3\n",
      "3\n",
      "4\n",
      "5\n",
      "6\n"
     ]
    }
   ],
   "source": [
    "for (a,b) in mylist:\n",
    "    print(a)\n",
    "    print(b)"
   ]
  },
  {
   "cell_type": "code",
   "execution_count": 8,
   "id": "3df37dbf",
   "metadata": {},
   "outputs": [
    {
     "name": "stdout",
     "output_type": "stream",
     "text": [
      "2\n",
      "5\n",
      "8\n"
     ]
    }
   ],
   "source": [
    "mylist=[(1,2,3),(4,5,6),(7,8,9)]\n",
    "\n",
    "for (x,y,z) in mylist:\n",
    "    print(y)"
   ]
  },
  {
   "cell_type": "markdown",
   "id": "663b1e58",
   "metadata": {},
   "source": [
    "# Iterating through a dictionairy"
   ]
  },
  {
   "cell_type": "code",
   "execution_count": 10,
   "id": "88f5fc01",
   "metadata": {},
   "outputs": [
    {
     "name": "stdout",
     "output_type": "stream",
     "text": [
      "k1\n",
      "k2\n",
      "k3\n"
     ]
    }
   ],
   "source": [
    "d = {'k1':1, 'k2':2, 'k3':3}\n",
    "\n",
    "for item in d:\n",
    "    print(item)"
   ]
  },
  {
   "cell_type": "code",
   "execution_count": 12,
   "id": "f11f5709",
   "metadata": {},
   "outputs": [
    {
     "name": "stdout",
     "output_type": "stream",
     "text": [
      "1\n",
      "2\n",
      "3\n"
     ]
    }
   ],
   "source": [
    "d = {'k1':1, 'k2':2, 'k3':3}\n",
    "\n",
    "for key,value in d.items():\n",
    "    print(value)"
   ]
  },
  {
   "cell_type": "code",
   "execution_count": 13,
   "id": "7217edff",
   "metadata": {},
   "outputs": [
    {
     "name": "stdout",
     "output_type": "stream",
     "text": [
      "1\n",
      "2\n",
      "3\n"
     ]
    }
   ],
   "source": [
    "d = {'k1':1, 'k2':2, 'k3':3}\n",
    "\n",
    "for value in d.values():\n",
    "    print(value)"
   ]
  },
  {
   "cell_type": "code",
   "execution_count": null,
   "id": "ab2669ba",
   "metadata": {},
   "outputs": [],
   "source": []
  }
 ],
 "metadata": {
  "kernelspec": {
   "display_name": "Python 3 (ipykernel)",
   "language": "python",
   "name": "python3"
  },
  "language_info": {
   "codemirror_mode": {
    "name": "ipython",
    "version": 3
   },
   "file_extension": ".py",
   "mimetype": "text/x-python",
   "name": "python",
   "nbconvert_exporter": "python",
   "pygments_lexer": "ipython3",
   "version": "3.10.9"
  }
 },
 "nbformat": 4,
 "nbformat_minor": 5
}
